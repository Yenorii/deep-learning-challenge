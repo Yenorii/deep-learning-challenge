{
 "cells": [
  {
   "cell_type": "markdown",
   "metadata": {},
   "source": [
    "## Preprocessing"
   ]
  },
  {
   "cell_type": "code",
   "execution_count": 1,
   "metadata": {},
   "outputs": [
    {
     "name": "stderr",
     "output_type": "stream",
     "text": [
      "/Users/yenori/anaconda3/envs/mydev/lib/python3.11/site-packages/pandas/core/arrays/masked.py:60: UserWarning: Pandas requires version '1.3.6' or newer of 'bottleneck' (version '1.3.5' currently installed).\n",
      "  from pandas.core import (\n",
      "/var/folders/cz/_pyz_5qn69155q4_bc51whp00000gn/T/ipykernel_7869/3125967289.py:4: DeprecationWarning: \n",
      "Pyarrow will become a required dependency of pandas in the next major release of pandas (pandas 3.0),\n",
      "(to allow more performant data types, such as the Arrow string type, and better interoperability with other libraries)\n",
      "but was not found to be installed on your system.\n",
      "If this would cause problems for you,\n",
      "please provide us feedback at https://github.com/pandas-dev/pandas/issues/54466\n",
      "        \n",
      "  import pandas as pd\n",
      "2024-03-04 20:36:03.134559: I tensorflow/core/platform/cpu_feature_guard.cc:182] This TensorFlow binary is optimized to use available CPU instructions in performance-critical operations.\n",
      "To enable the following instructions: AVX2 AVX512F AVX512_VNNI FMA, in other operations, rebuild TensorFlow with the appropriate compiler flags.\n"
     ]
    },
    {
     "data": {
      "text/html": [
       "<div>\n",
       "<style scoped>\n",
       "    .dataframe tbody tr th:only-of-type {\n",
       "        vertical-align: middle;\n",
       "    }\n",
       "\n",
       "    .dataframe tbody tr th {\n",
       "        vertical-align: top;\n",
       "    }\n",
       "\n",
       "    .dataframe thead th {\n",
       "        text-align: right;\n",
       "    }\n",
       "</style>\n",
       "<table border=\"1\" class=\"dataframe\">\n",
       "  <thead>\n",
       "    <tr style=\"text-align: right;\">\n",
       "      <th></th>\n",
       "      <th>EIN</th>\n",
       "      <th>NAME</th>\n",
       "      <th>APPLICATION_TYPE</th>\n",
       "      <th>AFFILIATION</th>\n",
       "      <th>CLASSIFICATION</th>\n",
       "      <th>USE_CASE</th>\n",
       "      <th>ORGANIZATION</th>\n",
       "      <th>STATUS</th>\n",
       "      <th>INCOME_AMT</th>\n",
       "      <th>SPECIAL_CONSIDERATIONS</th>\n",
       "      <th>ASK_AMT</th>\n",
       "      <th>IS_SUCCESSFUL</th>\n",
       "    </tr>\n",
       "  </thead>\n",
       "  <tbody>\n",
       "    <tr>\n",
       "      <th>0</th>\n",
       "      <td>10520599</td>\n",
       "      <td>BLUE KNIGHTS MOTORCYCLE CLUB</td>\n",
       "      <td>T10</td>\n",
       "      <td>Independent</td>\n",
       "      <td>C1000</td>\n",
       "      <td>ProductDev</td>\n",
       "      <td>Association</td>\n",
       "      <td>1</td>\n",
       "      <td>0</td>\n",
       "      <td>N</td>\n",
       "      <td>5000</td>\n",
       "      <td>1</td>\n",
       "    </tr>\n",
       "    <tr>\n",
       "      <th>1</th>\n",
       "      <td>10531628</td>\n",
       "      <td>AMERICAN CHESAPEAKE CLUB CHARITABLE TR</td>\n",
       "      <td>T3</td>\n",
       "      <td>Independent</td>\n",
       "      <td>C2000</td>\n",
       "      <td>Preservation</td>\n",
       "      <td>Co-operative</td>\n",
       "      <td>1</td>\n",
       "      <td>1-9999</td>\n",
       "      <td>N</td>\n",
       "      <td>108590</td>\n",
       "      <td>1</td>\n",
       "    </tr>\n",
       "    <tr>\n",
       "      <th>2</th>\n",
       "      <td>10547893</td>\n",
       "      <td>ST CLOUD PROFESSIONAL FIREFIGHTERS</td>\n",
       "      <td>T5</td>\n",
       "      <td>CompanySponsored</td>\n",
       "      <td>C3000</td>\n",
       "      <td>ProductDev</td>\n",
       "      <td>Association</td>\n",
       "      <td>1</td>\n",
       "      <td>0</td>\n",
       "      <td>N</td>\n",
       "      <td>5000</td>\n",
       "      <td>0</td>\n",
       "    </tr>\n",
       "    <tr>\n",
       "      <th>3</th>\n",
       "      <td>10553066</td>\n",
       "      <td>SOUTHSIDE ATHLETIC ASSOCIATION</td>\n",
       "      <td>T3</td>\n",
       "      <td>CompanySponsored</td>\n",
       "      <td>C2000</td>\n",
       "      <td>Preservation</td>\n",
       "      <td>Trust</td>\n",
       "      <td>1</td>\n",
       "      <td>10000-24999</td>\n",
       "      <td>N</td>\n",
       "      <td>6692</td>\n",
       "      <td>1</td>\n",
       "    </tr>\n",
       "    <tr>\n",
       "      <th>4</th>\n",
       "      <td>10556103</td>\n",
       "      <td>GENETIC RESEARCH INSTITUTE OF THE DESERT</td>\n",
       "      <td>T3</td>\n",
       "      <td>Independent</td>\n",
       "      <td>C1000</td>\n",
       "      <td>Heathcare</td>\n",
       "      <td>Trust</td>\n",
       "      <td>1</td>\n",
       "      <td>100000-499999</td>\n",
       "      <td>N</td>\n",
       "      <td>142590</td>\n",
       "      <td>1</td>\n",
       "    </tr>\n",
       "  </tbody>\n",
       "</table>\n",
       "</div>"
      ],
      "text/plain": [
       "        EIN                                      NAME APPLICATION_TYPE  \\\n",
       "0  10520599              BLUE KNIGHTS MOTORCYCLE CLUB              T10   \n",
       "1  10531628    AMERICAN CHESAPEAKE CLUB CHARITABLE TR               T3   \n",
       "2  10547893        ST CLOUD PROFESSIONAL FIREFIGHTERS               T5   \n",
       "3  10553066            SOUTHSIDE ATHLETIC ASSOCIATION               T3   \n",
       "4  10556103  GENETIC RESEARCH INSTITUTE OF THE DESERT               T3   \n",
       "\n",
       "        AFFILIATION CLASSIFICATION      USE_CASE  ORGANIZATION  STATUS  \\\n",
       "0       Independent          C1000    ProductDev   Association       1   \n",
       "1       Independent          C2000  Preservation  Co-operative       1   \n",
       "2  CompanySponsored          C3000    ProductDev   Association       1   \n",
       "3  CompanySponsored          C2000  Preservation         Trust       1   \n",
       "4       Independent          C1000     Heathcare         Trust       1   \n",
       "\n",
       "      INCOME_AMT SPECIAL_CONSIDERATIONS  ASK_AMT  IS_SUCCESSFUL  \n",
       "0              0                      N     5000              1  \n",
       "1         1-9999                      N   108590              1  \n",
       "2              0                      N     5000              0  \n",
       "3    10000-24999                      N     6692              1  \n",
       "4  100000-499999                      N   142590              1  "
      ]
     },
     "execution_count": 1,
     "metadata": {},
     "output_type": "execute_result"
    }
   ],
   "source": [
    "# Import our dependencies\n",
    "from sklearn.model_selection import train_test_split\n",
    "from sklearn.preprocessing import StandardScaler\n",
    "import pandas as pd\n",
    "import tensorflow as tf\n",
    "\n",
    "#  Import and read the charity_data.csv.\n",
    "import pandas as pd \n",
    "application_df = pd.read_csv(\"https://static.bc-edx.com/data/dl-1-2/m21/lms/starter/charity_data.csv\")\n",
    "application_df.head()"
   ]
  },
  {
   "cell_type": "code",
   "execution_count": 2,
   "metadata": {},
   "outputs": [],
   "source": [
    "# Drop the non-beneficial ID columns, 'EIN' and 'NAME'.\n",
    "application_df = application_df.drop(['EIN', 'NAME'], axis=1)"
   ]
  },
  {
   "cell_type": "code",
   "execution_count": 3,
   "metadata": {},
   "outputs": [
    {
     "name": "stdout",
     "output_type": "stream",
     "text": [
      "APPLICATION_TYPE            17\n",
      "AFFILIATION                  6\n",
      "CLASSIFICATION              71\n",
      "USE_CASE                     5\n",
      "ORGANIZATION                 4\n",
      "STATUS                       2\n",
      "INCOME_AMT                   9\n",
      "SPECIAL_CONSIDERATIONS       2\n",
      "ASK_AMT                   8747\n",
      "IS_SUCCESSFUL                2\n",
      "dtype: int64\n"
     ]
    }
   ],
   "source": [
    "# Determine the number of unique values in each column.\n",
    "print(application_df.nunique())"
   ]
  },
  {
   "cell_type": "code",
   "execution_count": 4,
   "metadata": {},
   "outputs": [
    {
     "data": {
      "text/plain": [
       "APPLICATION_TYPE\n",
       "T3     27037\n",
       "T4      1542\n",
       "T6      1216\n",
       "T5      1173\n",
       "T19     1065\n",
       "T8       737\n",
       "T7       725\n",
       "T10      528\n",
       "T9       156\n",
       "T13       66\n",
       "T12       27\n",
       "T2        16\n",
       "T25        3\n",
       "T14        3\n",
       "T29        2\n",
       "T15        2\n",
       "T17        1\n",
       "Name: count, dtype: int64"
      ]
     },
     "execution_count": 4,
     "metadata": {},
     "output_type": "execute_result"
    }
   ],
   "source": [
    "# Look at APPLICATION_TYPE value counts for binning\n",
    "application_df['APPLICATION_TYPE'].value_counts()"
   ]
  },
  {
   "cell_type": "code",
   "execution_count": 5,
   "metadata": {},
   "outputs": [
    {
     "data": {
      "text/plain": [
       "APPLICATION_TYPE\n",
       "T3       27037\n",
       "T4        1542\n",
       "T6        1216\n",
       "T5        1173\n",
       "T19       1065\n",
       "T8         737\n",
       "T7         725\n",
       "T10        528\n",
       "Other      276\n",
       "Name: count, dtype: int64"
      ]
     },
     "execution_count": 5,
     "metadata": {},
     "output_type": "execute_result"
    }
   ],
   "source": [
    "# Choose a cutoff value and create a list of application types to be replaced\n",
    "# use the variable name `application_types_to_replace`\n",
    "counts = application_df['APPLICATION_TYPE'].value_counts()\n",
    "application_types_to_replace = counts[counts < 500].index\n",
    "\n",
    "# Replace in dataframe\n",
    "for app in application_types_to_replace:\n",
    "    application_df['APPLICATION_TYPE'] = application_df['APPLICATION_TYPE'].replace(app,\"Other\")\n",
    "\n",
    "# Check to make sure binning was successful\n",
    "application_df['APPLICATION_TYPE'].value_counts()"
   ]
  },
  {
   "cell_type": "code",
   "execution_count": 6,
   "metadata": {},
   "outputs": [
    {
     "data": {
      "text/plain": [
       "CLASSIFICATION\n",
       "C1000    17326\n",
       "C2000     6074\n",
       "C1200     4837\n",
       "C3000     1918\n",
       "C2100     1883\n",
       "         ...  \n",
       "C1248        1\n",
       "C6100        1\n",
       "C1820        1\n",
       "C1900        1\n",
       "C2150        1\n",
       "Name: count, Length: 71, dtype: int64"
      ]
     },
     "execution_count": 6,
     "metadata": {},
     "output_type": "execute_result"
    }
   ],
   "source": [
    "# Look at CLASSIFICATION value counts for binning\n",
    "application_df['CLASSIFICATION'].value_counts()"
   ]
  },
  {
   "cell_type": "code",
   "execution_count": 7,
   "metadata": {},
   "outputs": [
    {
     "data": {
      "text/plain": [
       "CLASSIFICATION\n",
       "Other    34273\n",
       "C2561        1\n",
       "C1245        1\n",
       "C4500        1\n",
       "C8210        1\n",
       "C4120        1\n",
       "C2170        1\n",
       "C1728        1\n",
       "C1732        1\n",
       "C2380        1\n",
       "C1283        1\n",
       "C1570        1\n",
       "C2500        1\n",
       "C3700        1\n",
       "C1580        1\n",
       "C2570        1\n",
       "C1236        1\n",
       "C2190        1\n",
       "C4200        1\n",
       "C5200        1\n",
       "C1370        1\n",
       "C2600        1\n",
       "C1248        1\n",
       "C6100        1\n",
       "C1820        1\n",
       "C1900        1\n",
       "C2150        1\n",
       "Name: count, dtype: int64"
      ]
     },
     "execution_count": 7,
     "metadata": {},
     "output_type": "execute_result"
    }
   ],
   "source": [
    "# You may find it helpful to look at CLASSIFICATION value counts >1\n",
    "counts = application_df['CLASSIFICATION'].value_counts()\n",
    "classifications_to_replace = counts[counts > 1].index\n",
    "\n",
    "for cls in classifications_to_replace:\n",
    "    application_df['CLASSIFICATION'] = application_df['CLASSIFICATION'].replace(cls,\"Other\")\n",
    "    \n",
    "application_df['CLASSIFICATION'].value_counts()"
   ]
  },
  {
   "cell_type": "code",
   "execution_count": 8,
   "metadata": {},
   "outputs": [
    {
     "data": {
      "text/plain": [
       "CLASSIFICATION\n",
       "C1000    17326\n",
       "C2000     6074\n",
       "C1200     4837\n",
       "Other     2261\n",
       "C3000     1918\n",
       "C2100     1883\n",
       "Name: count, dtype: int64"
      ]
     },
     "execution_count": 8,
     "metadata": {},
     "output_type": "execute_result"
    }
   ],
   "source": [
    "# Choose a cutoff value and create a list of classifications to be replaced\n",
    "# use the variable name `classifications_to_replace`\n",
    "counts = application_df['CLASSIFICATION'].value_counts()\n",
    "classifications_to_replace = counts[counts < 1000].index\n",
    "\n",
    "# Replace in dataframe\n",
    "for cls in classifications_to_replace:\n",
    "    application_df['CLASSIFICATION'] = application_df['CLASSIFICATION'].replace(cls,\"Other\")\n",
    "    \n",
    "# Check to make sure binning was successful\n",
    "application_df['CLASSIFICATION'].value_counts()"
   ]
  },
  {
   "cell_type": "code",
   "execution_count": 9,
   "metadata": {},
   "outputs": [],
   "source": [
    "# Convert categorical data to numeric with `pd.get_dummies`\n",
    "data_encoded = pd.get_dummies(application_df)"
   ]
  },
  {
   "cell_type": "code",
   "execution_count": 10,
   "metadata": {},
   "outputs": [],
   "source": [
    "# Split our preprocessed data into our features and target arrays\n",
    "X = data_encoded.drop('IS_SUCCESSFUL', axis=1)\n",
    "y = data_encoded['IS_SUCCESSFUL']\n",
    "\n",
    "# Split the preprocessed data into a training and testing dataset\n",
    "X_train, X_test, y_train, y_test = train_test_split(X, y, stratify=y, random_state=42)"
   ]
  },
  {
   "cell_type": "code",
   "execution_count": 11,
   "metadata": {},
   "outputs": [],
   "source": [
    "# Create a StandardScaler instances\n",
    "scaler = StandardScaler()\n",
    "\n",
    "# Fit the StandardScaler\n",
    "X_scaler = scaler.fit(X_train)\n",
    "\n",
    "# Scale the data\n",
    "X_train_scaled = X_scaler.transform(X_train)\n",
    "X_test_scaled = X_scaler.transform(X_test)"
   ]
  },
  {
   "cell_type": "markdown",
   "metadata": {},
   "source": [
    "## Compile, Train and Evaluate the Model"
   ]
  },
  {
   "cell_type": "code",
   "execution_count": 12,
   "metadata": {},
   "outputs": [
    {
     "name": "stdout",
     "output_type": "stream",
     "text": [
      "Model: \"sequential\"\n",
      "_________________________________________________________________\n",
      " Layer (type)                Output Shape              Param #   \n",
      "=================================================================\n",
      " dense (Dense)               (None, 80)                3520      \n",
      "                                                                 \n",
      " dense_1 (Dense)             (None, 30)                2430      \n",
      "                                                                 \n",
      " dense_2 (Dense)             (None, 1)                 31        \n",
      "                                                                 \n",
      "=================================================================\n",
      "Total params: 5981 (23.36 KB)\n",
      "Trainable params: 5981 (23.36 KB)\n",
      "Non-trainable params: 0 (0.00 Byte)\n",
      "_________________________________________________________________\n"
     ]
    }
   ],
   "source": [
    "# Define the model - deep neural net, i.e., the number of input features and hidden nodes for each layer.\n",
    "nn = tf.keras.models.Sequential([\n",
    "    # First hidden layer\n",
    "    tf.keras.layers.Dense(80, input_dim=X_train_scaled.shape[1], activation='relu'),\n",
    "    # Second hidden layer\n",
    "    tf.keras.layers.Dense(30, activation='relu'),\n",
    "    # Output layer\n",
    "    tf.keras.layers.Dense(1, activation='sigmoid')\n",
    "])\n",
    "\n",
    "# Check the structure of the model\n",
    "nn.summary()"
   ]
  },
  {
   "cell_type": "code",
   "execution_count": 13,
   "metadata": {},
   "outputs": [],
   "source": [
    "# Compile the model\n",
    "nn.compile(optimizer='adam', loss='binary_crossentropy', metrics=['accuracy'])"
   ]
  },
  {
   "cell_type": "code",
   "execution_count": 14,
   "metadata": {},
   "outputs": [
    {
     "name": "stdout",
     "output_type": "stream",
     "text": [
      "Epoch 1/100\n",
      "81/81 [==============================] - 12s 66ms/step - loss: 0.5976 - accuracy: 0.6981 - val_loss: 0.5760 - val_accuracy: 0.7193\n",
      "Epoch 2/100\n",
      "81/81 [==============================] - 2s 25ms/step - loss: 0.5562 - accuracy: 0.7319 - val_loss: 0.5738 - val_accuracy: 0.7197\n",
      "Epoch 3/100\n",
      "81/81 [==============================] - 2s 21ms/step - loss: 0.5524 - accuracy: 0.7323 - val_loss: 0.5727 - val_accuracy: 0.7223\n",
      "Epoch 4/100\n",
      "81/81 [==============================] - 3s 35ms/step - loss: 0.5494 - accuracy: 0.7351 - val_loss: 0.5675 - val_accuracy: 0.7261\n",
      "Epoch 5/100\n",
      "81/81 [==============================] - 2s 24ms/step - loss: 0.5478 - accuracy: 0.7351 - val_loss: 0.5708 - val_accuracy: 0.7211\n",
      "Epoch 6/100\n",
      "81/81 [==============================] - 2s 29ms/step - loss: 0.5463 - accuracy: 0.7370 - val_loss: 0.5676 - val_accuracy: 0.7277\n",
      "Epoch 7/100\n",
      "81/81 [==============================] - 2s 25ms/step - loss: 0.5458 - accuracy: 0.7358 - val_loss: 0.5683 - val_accuracy: 0.7267\n",
      "Epoch 8/100\n",
      "81/81 [==============================] - 2s 27ms/step - loss: 0.5448 - accuracy: 0.7370 - val_loss: 0.5713 - val_accuracy: 0.7224\n",
      "Epoch 9/100\n",
      "81/81 [==============================] - 2s 21ms/step - loss: 0.5444 - accuracy: 0.7362 - val_loss: 0.5674 - val_accuracy: 0.7269\n",
      "Epoch 10/100\n",
      "81/81 [==============================] - 2s 21ms/step - loss: 0.5435 - accuracy: 0.7366 - val_loss: 0.5705 - val_accuracy: 0.7180\n",
      "Epoch 11/100\n",
      "81/81 [==============================] - 1s 16ms/step - loss: 0.5430 - accuracy: 0.7371 - val_loss: 0.5689 - val_accuracy: 0.7248\n",
      "Epoch 12/100\n",
      "81/81 [==============================] - 1s 14ms/step - loss: 0.5423 - accuracy: 0.7375 - val_loss: 0.5726 - val_accuracy: 0.7236\n",
      "Epoch 13/100\n",
      "81/81 [==============================] - 2s 19ms/step - loss: 0.5423 - accuracy: 0.7363 - val_loss: 0.5757 - val_accuracy: 0.7199\n",
      "Epoch 14/100\n",
      "81/81 [==============================] - 1s 12ms/step - loss: 0.5420 - accuracy: 0.7374 - val_loss: 0.5657 - val_accuracy: 0.7246\n",
      "Epoch 15/100\n",
      "81/81 [==============================] - 1s 10ms/step - loss: 0.5412 - accuracy: 0.7387 - val_loss: 0.5714 - val_accuracy: 0.7224\n",
      "Epoch 16/100\n",
      "81/81 [==============================] - 1s 11ms/step - loss: 0.5413 - accuracy: 0.7385 - val_loss: 0.5705 - val_accuracy: 0.7193\n",
      "Epoch 17/100\n",
      "81/81 [==============================] - 2s 19ms/step - loss: 0.5409 - accuracy: 0.7365 - val_loss: 0.5720 - val_accuracy: 0.7168\n",
      "Epoch 18/100\n",
      "81/81 [==============================] - 1s 13ms/step - loss: 0.5403 - accuracy: 0.7379 - val_loss: 0.5671 - val_accuracy: 0.7211\n",
      "Epoch 19/100\n",
      "81/81 [==============================] - 1s 13ms/step - loss: 0.5402 - accuracy: 0.7376 - val_loss: 0.5700 - val_accuracy: 0.7250\n",
      "Epoch 20/100\n",
      "81/81 [==============================] - 1s 12ms/step - loss: 0.5401 - accuracy: 0.7377 - val_loss: 0.5699 - val_accuracy: 0.7238\n",
      "Epoch 21/100\n",
      "81/81 [==============================] - 1s 17ms/step - loss: 0.5403 - accuracy: 0.7400 - val_loss: 0.5724 - val_accuracy: 0.7170\n",
      "Epoch 22/100\n",
      "81/81 [==============================] - 1s 17ms/step - loss: 0.5396 - accuracy: 0.7387 - val_loss: 0.5706 - val_accuracy: 0.7205\n",
      "Epoch 23/100\n",
      "81/81 [==============================] - 1s 10ms/step - loss: 0.5398 - accuracy: 0.7388 - val_loss: 0.5681 - val_accuracy: 0.7211\n",
      "Epoch 24/100\n",
      "81/81 [==============================] - 2s 20ms/step - loss: 0.5397 - accuracy: 0.7386 - val_loss: 0.5673 - val_accuracy: 0.7259\n",
      "Epoch 25/100\n",
      "81/81 [==============================] - 1s 13ms/step - loss: 0.5387 - accuracy: 0.7397 - val_loss: 0.5682 - val_accuracy: 0.7250\n",
      "Epoch 26/100\n",
      "81/81 [==============================] - 1s 11ms/step - loss: 0.5387 - accuracy: 0.7385 - val_loss: 0.5670 - val_accuracy: 0.7271\n",
      "Epoch 27/100\n",
      "81/81 [==============================] - 1s 13ms/step - loss: 0.5385 - accuracy: 0.7399 - val_loss: 0.5683 - val_accuracy: 0.7236\n",
      "Epoch 28/100\n",
      "81/81 [==============================] - 1s 16ms/step - loss: 0.5387 - accuracy: 0.7405 - val_loss: 0.5690 - val_accuracy: 0.7180\n",
      "Epoch 29/100\n",
      "81/81 [==============================] - 1s 12ms/step - loss: 0.5380 - accuracy: 0.7403 - val_loss: 0.5699 - val_accuracy: 0.7226\n",
      "Epoch 30/100\n",
      "81/81 [==============================] - 1s 16ms/step - loss: 0.5388 - accuracy: 0.7387 - val_loss: 0.5660 - val_accuracy: 0.7252\n",
      "Epoch 31/100\n",
      "81/81 [==============================] - 1s 18ms/step - loss: 0.5379 - accuracy: 0.7393 - val_loss: 0.5708 - val_accuracy: 0.7238\n",
      "Epoch 32/100\n",
      "81/81 [==============================] - 1s 16ms/step - loss: 0.5372 - accuracy: 0.7402 - val_loss: 0.5667 - val_accuracy: 0.7236\n",
      "Epoch 33/100\n",
      "81/81 [==============================] - 1s 12ms/step - loss: 0.5380 - accuracy: 0.7383 - val_loss: 0.5699 - val_accuracy: 0.7223\n",
      "Epoch 34/100\n",
      "81/81 [==============================] - 1s 11ms/step - loss: 0.5380 - accuracy: 0.7399 - val_loss: 0.5687 - val_accuracy: 0.7246\n",
      "Epoch 35/100\n",
      "81/81 [==============================] - 1s 18ms/step - loss: 0.5380 - accuracy: 0.7407 - val_loss: 0.5685 - val_accuracy: 0.7256\n",
      "Epoch 36/100\n",
      "81/81 [==============================] - 1s 10ms/step - loss: 0.5373 - accuracy: 0.7411 - val_loss: 0.5688 - val_accuracy: 0.7287\n",
      "Epoch 37/100\n",
      "81/81 [==============================] - 2s 21ms/step - loss: 0.5375 - accuracy: 0.7416 - val_loss: 0.5707 - val_accuracy: 0.7197\n",
      "Epoch 38/100\n",
      "81/81 [==============================] - 2s 19ms/step - loss: 0.5373 - accuracy: 0.7418 - val_loss: 0.5669 - val_accuracy: 0.7256\n",
      "Epoch 39/100\n",
      "81/81 [==============================] - 1s 14ms/step - loss: 0.5378 - accuracy: 0.7398 - val_loss: 0.5710 - val_accuracy: 0.7190\n",
      "Epoch 40/100\n",
      "81/81 [==============================] - 1s 11ms/step - loss: 0.5365 - accuracy: 0.7408 - val_loss: 0.5680 - val_accuracy: 0.7250\n",
      "Epoch 41/100\n",
      "81/81 [==============================] - 1s 13ms/step - loss: 0.5369 - accuracy: 0.7404 - val_loss: 0.5659 - val_accuracy: 0.7261\n",
      "Epoch 42/100\n",
      "81/81 [==============================] - 1s 18ms/step - loss: 0.5364 - accuracy: 0.7394 - val_loss: 0.5670 - val_accuracy: 0.7261\n",
      "Epoch 43/100\n",
      "81/81 [==============================] - 1s 14ms/step - loss: 0.5365 - accuracy: 0.7406 - val_loss: 0.5698 - val_accuracy: 0.7246\n",
      "Epoch 44/100\n",
      "81/81 [==============================] - 1s 16ms/step - loss: 0.5366 - accuracy: 0.7415 - val_loss: 0.5710 - val_accuracy: 0.7207\n",
      "Epoch 45/100\n",
      "81/81 [==============================] - 1s 14ms/step - loss: 0.5366 - accuracy: 0.7412 - val_loss: 0.5685 - val_accuracy: 0.7256\n",
      "Epoch 46/100\n",
      "81/81 [==============================] - 1s 13ms/step - loss: 0.5362 - accuracy: 0.7417 - val_loss: 0.5673 - val_accuracy: 0.7244\n",
      "Epoch 47/100\n",
      "81/81 [==============================] - 1s 12ms/step - loss: 0.5371 - accuracy: 0.7388 - val_loss: 0.5701 - val_accuracy: 0.7230\n",
      "Epoch 48/100\n",
      "81/81 [==============================] - 1s 12ms/step - loss: 0.5361 - accuracy: 0.7423 - val_loss: 0.5704 - val_accuracy: 0.7199\n",
      "Epoch 49/100\n",
      "81/81 [==============================] - 2s 19ms/step - loss: 0.5364 - accuracy: 0.7416 - val_loss: 0.5696 - val_accuracy: 0.7207\n",
      "Epoch 50/100\n",
      "81/81 [==============================] - 1s 15ms/step - loss: 0.5367 - accuracy: 0.7402 - val_loss: 0.5702 - val_accuracy: 0.7254\n",
      "Epoch 51/100\n",
      "81/81 [==============================] - 1s 12ms/step - loss: 0.5356 - accuracy: 0.7409 - val_loss: 0.5701 - val_accuracy: 0.7256\n",
      "Epoch 52/100\n",
      "81/81 [==============================] - 1s 11ms/step - loss: 0.5363 - accuracy: 0.7410 - val_loss: 0.5717 - val_accuracy: 0.7226\n",
      "Epoch 53/100\n",
      "81/81 [==============================] - 1s 18ms/step - loss: 0.5364 - accuracy: 0.7410 - val_loss: 0.5695 - val_accuracy: 0.7240\n",
      "Epoch 54/100\n",
      "81/81 [==============================] - 1s 9ms/step - loss: 0.5350 - accuracy: 0.7410 - val_loss: 0.5701 - val_accuracy: 0.7252\n",
      "Epoch 55/100\n",
      "81/81 [==============================] - 1s 14ms/step - loss: 0.5355 - accuracy: 0.7414 - val_loss: 0.5742 - val_accuracy: 0.7182\n",
      "Epoch 56/100\n",
      "81/81 [==============================] - 1s 15ms/step - loss: 0.5353 - accuracy: 0.7405 - val_loss: 0.5692 - val_accuracy: 0.7211\n",
      "Epoch 57/100\n",
      "81/81 [==============================] - 1s 12ms/step - loss: 0.5356 - accuracy: 0.7423 - val_loss: 0.5693 - val_accuracy: 0.7248\n",
      "Epoch 58/100\n",
      "81/81 [==============================] - 1s 13ms/step - loss: 0.5353 - accuracy: 0.7414 - val_loss: 0.5725 - val_accuracy: 0.7223\n",
      "Epoch 59/100\n",
      "81/81 [==============================] - 2s 19ms/step - loss: 0.5352 - accuracy: 0.7426 - val_loss: 0.5717 - val_accuracy: 0.7172\n",
      "Epoch 60/100\n",
      "81/81 [==============================] - 1s 11ms/step - loss: 0.5351 - accuracy: 0.7426 - val_loss: 0.5729 - val_accuracy: 0.7219\n",
      "Epoch 61/100\n",
      "81/81 [==============================] - 1s 13ms/step - loss: 0.5347 - accuracy: 0.7414 - val_loss: 0.5692 - val_accuracy: 0.7279\n",
      "Epoch 62/100\n",
      "81/81 [==============================] - 1s 14ms/step - loss: 0.5354 - accuracy: 0.7417 - val_loss: 0.5735 - val_accuracy: 0.7186\n",
      "Epoch 63/100\n",
      "81/81 [==============================] - 1s 13ms/step - loss: 0.5347 - accuracy: 0.7417 - val_loss: 0.5709 - val_accuracy: 0.7199\n",
      "Epoch 64/100\n",
      "81/81 [==============================] - 1s 12ms/step - loss: 0.5350 - accuracy: 0.7425 - val_loss: 0.5723 - val_accuracy: 0.7211\n",
      "Epoch 65/100\n",
      "81/81 [==============================] - 1s 11ms/step - loss: 0.5343 - accuracy: 0.7410 - val_loss: 0.5735 - val_accuracy: 0.7217\n",
      "Epoch 66/100\n",
      "81/81 [==============================] - 2s 19ms/step - loss: 0.5348 - accuracy: 0.7429 - val_loss: 0.5693 - val_accuracy: 0.7240\n",
      "Epoch 67/100\n",
      "81/81 [==============================] - 1s 12ms/step - loss: 0.5346 - accuracy: 0.7422 - val_loss: 0.5715 - val_accuracy: 0.7230\n",
      "Epoch 68/100\n",
      "81/81 [==============================] - 1s 10ms/step - loss: 0.5345 - accuracy: 0.7410 - val_loss: 0.5701 - val_accuracy: 0.7242\n",
      "Epoch 69/100\n",
      "81/81 [==============================] - 1s 12ms/step - loss: 0.5345 - accuracy: 0.7423 - val_loss: 0.5705 - val_accuracy: 0.7232\n",
      "Epoch 70/100\n",
      "81/81 [==============================] - 1s 12ms/step - loss: 0.5348 - accuracy: 0.7416 - val_loss: 0.5697 - val_accuracy: 0.7217\n",
      "Epoch 71/100\n",
      "81/81 [==============================] - 1s 11ms/step - loss: 0.5347 - accuracy: 0.7406 - val_loss: 0.5778 - val_accuracy: 0.7164\n",
      "Epoch 72/100\n",
      "81/81 [==============================] - 1s 8ms/step - loss: 0.5349 - accuracy: 0.7425 - val_loss: 0.5702 - val_accuracy: 0.7215\n",
      "Epoch 73/100\n",
      "81/81 [==============================] - 1s 9ms/step - loss: 0.5349 - accuracy: 0.7412 - val_loss: 0.5701 - val_accuracy: 0.7244\n",
      "Epoch 74/100\n",
      "81/81 [==============================] - 1s 9ms/step - loss: 0.5337 - accuracy: 0.7426 - val_loss: 0.5767 - val_accuracy: 0.7184\n",
      "Epoch 75/100\n",
      "81/81 [==============================] - 1s 13ms/step - loss: 0.5349 - accuracy: 0.7409 - val_loss: 0.5728 - val_accuracy: 0.7238\n",
      "Epoch 76/100\n",
      "81/81 [==============================] - 1s 14ms/step - loss: 0.5338 - accuracy: 0.7425 - val_loss: 0.5736 - val_accuracy: 0.7199\n",
      "Epoch 77/100\n",
      "81/81 [==============================] - 1s 16ms/step - loss: 0.5340 - accuracy: 0.7428 - val_loss: 0.5742 - val_accuracy: 0.7203\n",
      "Epoch 78/100\n",
      "81/81 [==============================] - 1s 14ms/step - loss: 0.5336 - accuracy: 0.7427 - val_loss: 0.5757 - val_accuracy: 0.7174\n",
      "Epoch 79/100\n",
      "81/81 [==============================] - 1s 12ms/step - loss: 0.5338 - accuracy: 0.7438 - val_loss: 0.5734 - val_accuracy: 0.7228\n",
      "Epoch 80/100\n",
      "81/81 [==============================] - 1s 11ms/step - loss: 0.5336 - accuracy: 0.7426 - val_loss: 0.5717 - val_accuracy: 0.7223\n",
      "Epoch 81/100\n",
      "81/81 [==============================] - 1s 11ms/step - loss: 0.5336 - accuracy: 0.7418 - val_loss: 0.5731 - val_accuracy: 0.7223\n",
      "Epoch 82/100\n",
      "81/81 [==============================] - 1s 14ms/step - loss: 0.5340 - accuracy: 0.7421 - val_loss: 0.5735 - val_accuracy: 0.7191\n",
      "Epoch 83/100\n",
      "81/81 [==============================] - 1s 11ms/step - loss: 0.5331 - accuracy: 0.7423 - val_loss: 0.5737 - val_accuracy: 0.7201\n",
      "Epoch 84/100\n",
      "81/81 [==============================] - 1s 10ms/step - loss: 0.5335 - accuracy: 0.7434 - val_loss: 0.5723 - val_accuracy: 0.7223\n",
      "Epoch 85/100\n",
      "81/81 [==============================] - 1s 18ms/step - loss: 0.5335 - accuracy: 0.7416 - val_loss: 0.5709 - val_accuracy: 0.7250\n",
      "Epoch 86/100\n",
      "81/81 [==============================] - 1s 18ms/step - loss: 0.5336 - accuracy: 0.7422 - val_loss: 0.5745 - val_accuracy: 0.7186\n",
      "Epoch 87/100\n",
      "81/81 [==============================] - 1s 11ms/step - loss: 0.5330 - accuracy: 0.7427 - val_loss: 0.5696 - val_accuracy: 0.7254\n",
      "Epoch 88/100\n",
      "81/81 [==============================] - 2s 29ms/step - loss: 0.5332 - accuracy: 0.7412 - val_loss: 0.5739 - val_accuracy: 0.7193\n",
      "Epoch 89/100\n",
      "81/81 [==============================] - 1s 13ms/step - loss: 0.5330 - accuracy: 0.7419 - val_loss: 0.5779 - val_accuracy: 0.7182\n",
      "Epoch 90/100\n",
      "81/81 [==============================] - 1s 13ms/step - loss: 0.5333 - accuracy: 0.7432 - val_loss: 0.5764 - val_accuracy: 0.7149\n",
      "Epoch 91/100\n",
      "81/81 [==============================] - 1s 17ms/step - loss: 0.5328 - accuracy: 0.7434 - val_loss: 0.5720 - val_accuracy: 0.7238\n",
      "Epoch 92/100\n",
      "81/81 [==============================] - 1s 12ms/step - loss: 0.5330 - accuracy: 0.7424 - val_loss: 0.5720 - val_accuracy: 0.7252\n",
      "Epoch 93/100\n",
      "81/81 [==============================] - 1s 9ms/step - loss: 0.5335 - accuracy: 0.7422 - val_loss: 0.5715 - val_accuracy: 0.7258\n",
      "Epoch 94/100\n",
      "81/81 [==============================] - 1s 10ms/step - loss: 0.5331 - accuracy: 0.7438 - val_loss: 0.5735 - val_accuracy: 0.7240\n",
      "Epoch 95/100\n",
      "81/81 [==============================] - 1s 17ms/step - loss: 0.5332 - accuracy: 0.7415 - val_loss: 0.5737 - val_accuracy: 0.7191\n",
      "Epoch 96/100\n",
      "81/81 [==============================] - 1s 11ms/step - loss: 0.5323 - accuracy: 0.7424 - val_loss: 0.5708 - val_accuracy: 0.7244\n",
      "Epoch 97/100\n",
      "81/81 [==============================] - 1s 13ms/step - loss: 0.5330 - accuracy: 0.7438 - val_loss: 0.5714 - val_accuracy: 0.7232\n",
      "Epoch 98/100\n",
      "81/81 [==============================] - 2s 29ms/step - loss: 0.5330 - accuracy: 0.7436 - val_loss: 0.5722 - val_accuracy: 0.7246\n",
      "Epoch 99/100\n",
      "81/81 [==============================] - 2s 24ms/step - loss: 0.5323 - accuracy: 0.7428 - val_loss: 0.5715 - val_accuracy: 0.7205\n",
      "Epoch 100/100\n",
      "81/81 [==============================] - 2s 19ms/step - loss: 0.5323 - accuracy: 0.7425 - val_loss: 0.5755 - val_accuracy: 0.7191\n"
     ]
    }
   ],
   "source": [
    "# Train the model\n",
    "fit_model = nn.fit(X_train_scaled, y_train, epochs=100, batch_size=256, validation_split=0.2)"
   ]
  },
  {
   "cell_type": "code",
   "execution_count": 15,
   "metadata": {},
   "outputs": [
    {
     "name": "stdout",
     "output_type": "stream",
     "text": [
      "268/268 - 2s - loss: 0.5710 - accuracy: 0.7228 - 2s/epoch - 8ms/step\n",
      "Loss: 0.5710330009460449, Accuracy: 0.7227988243103027\n"
     ]
    }
   ],
   "source": [
    "# Evaluate the model using the test data\n",
    "model_loss, model_accuracy = nn.evaluate(X_test_scaled,y_test,verbose=2)\n",
    "print(f\"Loss: {model_loss}, Accuracy: {model_accuracy}\")"
   ]
  },
  {
   "cell_type": "code",
   "execution_count": 16,
   "metadata": {},
   "outputs": [
    {
     "name": "stderr",
     "output_type": "stream",
     "text": [
      "/Users/yenori/anaconda3/envs/mydev/lib/python3.11/site-packages/keras/src/engine/training.py:3103: UserWarning: You are saving your model as an HDF5 file via `model.save()`. This file format is considered legacy. We recommend using instead the native Keras format, e.g. `model.save('my_model.keras')`.\n",
      "  saving_api.save_model(\n"
     ]
    }
   ],
   "source": [
    "# Export our model to HDF5 file\n",
    "nn.save('AlphabetSoupCharity.h5')"
   ]
  }
 ],
 "metadata": {
  "kernelspec": {
   "display_name": "Python 3",
   "language": "python",
   "name": "python3"
  },
  "language_info": {
   "codemirror_mode": {
    "name": "ipython",
    "version": 3
   },
   "file_extension": ".py",
   "mimetype": "text/x-python",
   "name": "python",
   "nbconvert_exporter": "python",
   "pygments_lexer": "ipython3",
   "version": "3.11.5"
  },
  "vscode": {
   "interpreter": {
    "hash": "31f2aee4e71d21fbe5cf8b01ff0e069b9275f58929596ceb00d14d90e3e16cd6"
   }
  }
 },
 "nbformat": 4,
 "nbformat_minor": 4
}
